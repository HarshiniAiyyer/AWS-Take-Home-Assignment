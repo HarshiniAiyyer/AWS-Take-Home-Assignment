{
 "cells": [
  {
   "cell_type": "code",
   "execution_count": 0,
   "metadata": {
    "application/vnd.databricks.v1+cell": {
     "cellMetadata": {
      "byteLimit": 2048000,
      "rowLimit": 10000
     },
     "inputWidgets": {},
     "nuid": "3ba3bbef-884e-4728-b58c-460a4b265b67",
     "showTitle": false,
     "tableResultSettingsMap": {},
     "title": ""
    }
   },
   "outputs": [
    {
     "name": "stdout",
     "output_type": "stream",
     "text": [
      "+----+-------------+---+------+----------+-------------+-----------+-------------------+------+-----+\n",
      "|step|     customer|age|gender|zipcodeOri|     merchant|zipMerchant|           category|amount|fraud|\n",
      "+----+-------------+---+------+----------+-------------+-----------+-------------------+------+-----+\n",
      "|   0|'C1093826151'|'4'|   'M'|   '28007'| 'M348934600'|    '28007'|'es_transportation'|  4.55|    0|\n",
      "|   0| 'C352968107'|'2'|   'M'|   '28007'| 'M348934600'|    '28007'|'es_transportation'| 39.68|    0|\n",
      "|   0|'C2054744914'|'4'|   'F'|   '28007'|'M1823072687'|    '28007'|'es_transportation'| 26.89|    0|\n",
      "|   0|'C1760612790'|'3'|   'M'|   '28007'| 'M348934600'|    '28007'|'es_transportation'| 17.25|    0|\n",
      "|   0| 'C757503768'|'5'|   'M'|   '28007'| 'M348934600'|    '28007'|'es_transportation'| 35.72|    0|\n",
      "|   0|'C1315400589'|'3'|   'F'|   '28007'| 'M348934600'|    '28007'|'es_transportation'| 25.81|    0|\n",
      "|   0| 'C765155274'|'1'|   'F'|   '28007'| 'M348934600'|    '28007'|'es_transportation'|   9.1|    0|\n",
      "|   0| 'C202531238'|'4'|   'F'|   '28007'| 'M348934600'|    '28007'|'es_transportation'| 21.17|    0|\n",
      "|   0| 'C105845174'|'3'|   'M'|   '28007'| 'M348934600'|    '28007'|'es_transportation'|  32.4|    0|\n",
      "|   0|  'C39858251'|'5'|   'F'|   '28007'| 'M348934600'|    '28007'|'es_transportation'|  35.4|    0|\n",
      "|   0|  'C98707741'|'4'|   'F'|   '28007'| 'M348934600'|    '28007'|'es_transportation'| 14.95|    0|\n",
      "|   0|'C1551465414'|'1'|   'M'|   '28007'|'M1823072687'|    '28007'|'es_transportation'|  1.51|    0|\n",
      "|   0| 'C623601481'|'3'|   'M'|   '28007'|  'M50039827'|    '28007'|        'es_health'| 68.79|    0|\n",
      "|   0|'C1865204568'|'5'|   'M'|   '28007'|'M1823072687'|    '28007'|'es_transportation'| 20.32|    0|\n",
      "|   0| 'C490238464'|'3'|   'M'|   '28007'| 'M348934600'|    '28007'|'es_transportation'| 13.56|    0|\n",
      "|   0| 'C194016923'|'3'|   'F'|   '28007'| 'M348934600'|    '28007'|'es_transportation'| 30.19|    0|\n",
      "|   0|'C1207205377'|'4'|   'M'|   '28007'|'M1823072687'|    '28007'|'es_transportation'| 17.54|    0|\n",
      "|   0| 'C834963773'|'5'|   'F'|   '28007'| 'M348934600'|    '28007'|'es_transportation'| 40.69|    0|\n",
      "|   0|'C1897705669'|'2'|   'M'|   '28007'| 'M348934600'|    '28007'|'es_transportation'| 21.21|    0|\n",
      "|   0| 'C124539163'|'2'|   'F'|   '28007'| 'M348934600'|    '28007'|'es_transportation'| 10.09|    0|\n",
      "+----+-------------+---+------+----------+-------------+-----------+-------------------+------+-----+\n",
      "only showing top 20 rows\n",
      "\n"
     ]
    }
   ],
   "source": [
    "df = spark.read.option(\"header\", True).csv(\"dbfs:/FileStore/tables/transactions.csv\")\n",
    "df.show()"
   ]
  },
  {
   "cell_type": "code",
   "execution_count": 0,
   "metadata": {
    "application/vnd.databricks.v1+cell": {
     "cellMetadata": {
      "byteLimit": 2048000,
      "rowLimit": 10000
     },
     "inputWidgets": {},
     "nuid": "6eab0249-30d0-4f4f-b3bf-2fcdb4e7629e",
     "showTitle": false,
     "tableResultSettingsMap": {},
     "title": ""
    }
   },
   "outputs": [],
   "source": [
    "df.write \\\n",
    "  .option(\"header\", True) \\\n",
    "  .mode(\"overwrite\") \\\n",
    "  .csv(\"s3a://banktransactionskrnl1/chunks/\")"
   ]
  },
  {
   "cell_type": "code",
   "execution_count": 0,
   "metadata": {
    "application/vnd.databricks.v1+cell": {
     "cellMetadata": {
      "byteLimit": 2048000,
      "rowLimit": 10000
     },
     "inputWidgets": {},
     "nuid": "5ca14430-7c54-4809-b40d-d3988e52ed4a",
     "showTitle": false,
     "tableResultSettingsMap": {},
     "title": ""
    }
   },
   "outputs": [],
   "source": [
    "from pyspark.sql import Row\n",
    "from datetime import datetime\n",
    "import time\n",
    "\n",
    "def stream_to_s3(df, chunk_size=10000, max_chunks=None):\n",
    "    \"\"\"\n",
    "    Streams the given Spark DataFrame to S3 in chunks of `chunk_size` rows.\n",
    "    Each chunk is written to a unique S3 folder every second.\n",
    "\n",
    "    Parameters:\n",
    "    - df (Spark DataFrame): The input dataframe to chunk and stream\n",
    "    - chunk_size (int): Number of rows per chunk (default: 10000)\n",
    "    - max_chunks (int or None): Maximum number of chunks to stream (default: None = stream all)\n",
    "    \"\"\"\n",
    "    print(\"Starting Mechanism X: Streaming to S3\")\n",
    "\n",
    "    # Add row_id using zipWithIndex\n",
    "    rdd_with_index = df.rdd.zipWithIndex()\n",
    "\n",
    "    def add_index(row_index_tuple):\n",
    "        row, idx = row_index_tuple\n",
    "        data_dict = row.asDict()\n",
    "        data_dict['row_id'] = idx\n",
    "        return Row(**data_dict)\n",
    "\n",
    "    df_with_index = rdd_with_index.map(add_index).toDF()\n",
    "    total = df_with_index.count()\n",
    "    \n",
    "    num_chunks = (total // chunk_size) + (1 if total % chunk_size != 0 else 0)\n",
    "    if max_chunks is not None:\n",
    "        num_chunks = min(num_chunks, max_chunks)\n",
    "\n",
    "    bucket = \"s3a://banktransactionskrnl1/chunks/\"\n",
    "\n",
    "    for i in range(num_chunks):\n",
    "        begin = i * chunk_size\n",
    "        end = begin + chunk_size\n",
    "        chunk_df = df_with_index.filter((df_with_index.row_id >= begin) & (df_with_index.row_id < end)).drop(\"row_id\")\n",
    "        \n",
    "        timestamp = datetime.now().strftime('%Y%m%d%H%M%S')\n",
    "        output_path = f\"{bucket}chunk_{i}_{timestamp}/\"\n",
    "\n",
    "        chunk_df.repartition(1).write.option(\"header\", True).mode(\"overwrite\").csv(output_path)\n",
    "        \n",
    "        print(f\"[{timestamp}] ✅ Uploaded chunk {i} with {chunk_df.count()} rows to {output_path}\")\n",
    "        time.sleep(1)\n",
    "\n",
    "    print(\"✅ All chunks uploaded. Mechanism X complete.\")\n"
   ]
  },
  {
   "cell_type": "code",
   "execution_count": 0,
   "metadata": {
    "application/vnd.databricks.v1+cell": {
     "cellMetadata": {
      "byteLimit": 2048000,
      "rowLimit": 10000
     },
     "inputWidgets": {},
     "nuid": "f44c73bc-e569-4b0f-b46a-53863861b859",
     "showTitle": false,
     "tableResultSettingsMap": {},
     "title": ""
    }
   },
   "outputs": [
    {
     "name": "stdout",
     "output_type": "stream",
     "text": [
      "Starting Mechanism X: Streaming to S3\n",
      "[20250605035607] ✅ Uploaded chunk 0 with 10000 rows to s3a://banktransactionskrnl1/chunks/chunk_0_20250605035607/\n",
      "[20250605035643] ✅ Uploaded chunk 1 with 10000 rows to s3a://banktransactionskrnl1/chunks/chunk_1_20250605035643/\n",
      "[20250605035718] ✅ Uploaded chunk 2 with 10000 rows to s3a://banktransactionskrnl1/chunks/chunk_2_20250605035718/\n",
      "[20250605035754] ✅ Uploaded chunk 3 with 10000 rows to s3a://banktransactionskrnl1/chunks/chunk_3_20250605035754/\n",
      "[20250605035829] ✅ Uploaded chunk 4 with 10000 rows to s3a://banktransactionskrnl1/chunks/chunk_4_20250605035829/\n",
      "[20250605035904] ✅ Uploaded chunk 5 with 10000 rows to s3a://banktransactionskrnl1/chunks/chunk_5_20250605035904/\n",
      "[20250605035939] ✅ Uploaded chunk 6 with 10000 rows to s3a://banktransactionskrnl1/chunks/chunk_6_20250605035939/\n",
      "[20250605040015] ✅ Uploaded chunk 7 with 10000 rows to s3a://banktransactionskrnl1/chunks/chunk_7_20250605040015/\n",
      "[20250605040051] ✅ Uploaded chunk 8 with 10000 rows to s3a://banktransactionskrnl1/chunks/chunk_8_20250605040051/\n",
      "[20250605040127] ✅ Uploaded chunk 9 with 10000 rows to s3a://banktransactionskrnl1/chunks/chunk_9_20250605040127/\n",
      "[20250605040201] ✅ Uploaded chunk 10 with 10000 rows to s3a://banktransactionskrnl1/chunks/chunk_10_20250605040201/\n",
      "[20250605040236] ✅ Uploaded chunk 11 with 10000 rows to s3a://banktransactionskrnl1/chunks/chunk_11_20250605040236/\n",
      "[20250605040310] ✅ Uploaded chunk 12 with 10000 rows to s3a://banktransactionskrnl1/chunks/chunk_12_20250605040310/\n",
      "[20250605040344] ✅ Uploaded chunk 13 with 10000 rows to s3a://banktransactionskrnl1/chunks/chunk_13_20250605040344/\n",
      "[20250605040419] ✅ Uploaded chunk 14 with 10000 rows to s3a://banktransactionskrnl1/chunks/chunk_14_20250605040419/\n",
      "[20250605040453] ✅ Uploaded chunk 15 with 10000 rows to s3a://banktransactionskrnl1/chunks/chunk_15_20250605040453/\n",
      "[20250605040528] ✅ Uploaded chunk 16 with 10000 rows to s3a://banktransactionskrnl1/chunks/chunk_16_20250605040528/\n",
      "[20250605040602] ✅ Uploaded chunk 17 with 10000 rows to s3a://banktransactionskrnl1/chunks/chunk_17_20250605040602/\n",
      "[20250605040636] ✅ Uploaded chunk 18 with 10000 rows to s3a://banktransactionskrnl1/chunks/chunk_18_20250605040636/\n",
      "[20250605040710] ✅ Uploaded chunk 19 with 10000 rows to s3a://banktransactionskrnl1/chunks/chunk_19_20250605040710/\n",
      "[20250605040744] ✅ Uploaded chunk 20 with 10000 rows to s3a://banktransactionskrnl1/chunks/chunk_20_20250605040744/\n",
      "[20250605040819] ✅ Uploaded chunk 21 with 10000 rows to s3a://banktransactionskrnl1/chunks/chunk_21_20250605040819/\n",
      "[20250605040853] ✅ Uploaded chunk 22 with 10000 rows to s3a://banktransactionskrnl1/chunks/chunk_22_20250605040853/\n",
      "[20250605040927] ✅ Uploaded chunk 23 with 10000 rows to s3a://banktransactionskrnl1/chunks/chunk_23_20250605040927/\n",
      "[20250605041001] ✅ Uploaded chunk 24 with 10000 rows to s3a://banktransactionskrnl1/chunks/chunk_24_20250605041001/\n",
      "[20250605041035] ✅ Uploaded chunk 25 with 10000 rows to s3a://banktransactionskrnl1/chunks/chunk_25_20250605041035/\n",
      "[20250605041109] ✅ Uploaded chunk 26 with 10000 rows to s3a://banktransactionskrnl1/chunks/chunk_26_20250605041109/\n",
      "[20250605041144] ✅ Uploaded chunk 27 with 10000 rows to s3a://banktransactionskrnl1/chunks/chunk_27_20250605041144/\n",
      "[20250605041219] ✅ Uploaded chunk 28 with 10000 rows to s3a://banktransactionskrnl1/chunks/chunk_28_20250605041219/\n",
      "[20250605041253] ✅ Uploaded chunk 29 with 10000 rows to s3a://banktransactionskrnl1/chunks/chunk_29_20250605041253/\n",
      "[20250605041328] ✅ Uploaded chunk 30 with 10000 rows to s3a://banktransactionskrnl1/chunks/chunk_30_20250605041328/\n",
      "[20250605041401] ✅ Uploaded chunk 31 with 10000 rows to s3a://banktransactionskrnl1/chunks/chunk_31_20250605041401/\n",
      "[20250605041435] ✅ Uploaded chunk 32 with 10000 rows to s3a://banktransactionskrnl1/chunks/chunk_32_20250605041435/\n",
      "[20250605041510] ✅ Uploaded chunk 33 with 10000 rows to s3a://banktransactionskrnl1/chunks/chunk_33_20250605041510/\n",
      "[20250605041544] ✅ Uploaded chunk 34 with 10000 rows to s3a://banktransactionskrnl1/chunks/chunk_34_20250605041544/\n",
      "[20250605041618] ✅ Uploaded chunk 35 with 10000 rows to s3a://banktransactionskrnl1/chunks/chunk_35_20250605041618/\n",
      "[20250605041653] ✅ Uploaded chunk 36 with 10000 rows to s3a://banktransactionskrnl1/chunks/chunk_36_20250605041653/\n",
      "[20250605041727] ✅ Uploaded chunk 37 with 10000 rows to s3a://banktransactionskrnl1/chunks/chunk_37_20250605041727/\n",
      "[20250605041802] ✅ Uploaded chunk 38 with 10000 rows to s3a://banktransactionskrnl1/chunks/chunk_38_20250605041802/\n",
      "[20250605041836] ✅ Uploaded chunk 39 with 10000 rows to s3a://banktransactionskrnl1/chunks/chunk_39_20250605041836/\n",
      "[20250605041910] ✅ Uploaded chunk 40 with 10000 rows to s3a://banktransactionskrnl1/chunks/chunk_40_20250605041910/\n",
      "[20250605041944] ✅ Uploaded chunk 41 with 10000 rows to s3a://banktransactionskrnl1/chunks/chunk_41_20250605041944/\n",
      "[20250605042018] ✅ Uploaded chunk 42 with 10000 rows to s3a://banktransactionskrnl1/chunks/chunk_42_20250605042018/\n",
      "[20250605042053] ✅ Uploaded chunk 43 with 10000 rows to s3a://banktransactionskrnl1/chunks/chunk_43_20250605042053/\n",
      "[20250605042127] ✅ Uploaded chunk 44 with 10000 rows to s3a://banktransactionskrnl1/chunks/chunk_44_20250605042127/\n",
      "[20250605042202] ✅ Uploaded chunk 45 with 10000 rows to s3a://banktransactionskrnl1/chunks/chunk_45_20250605042202/\n",
      "[20250605042237] ✅ Uploaded chunk 46 with 10000 rows to s3a://banktransactionskrnl1/chunks/chunk_46_20250605042237/\n",
      "[20250605042311] ✅ Uploaded chunk 47 with 10000 rows to s3a://banktransactionskrnl1/chunks/chunk_47_20250605042311/\n",
      "[20250605042344] ✅ Uploaded chunk 48 with 10000 rows to s3a://banktransactionskrnl1/chunks/chunk_48_20250605042344/\n",
      "[20250605042418] ✅ Uploaded chunk 49 with 10000 rows to s3a://banktransactionskrnl1/chunks/chunk_49_20250605042418/\n",
      "[20250605042453] ✅ Uploaded chunk 50 with 10000 rows to s3a://banktransactionskrnl1/chunks/chunk_50_20250605042453/\n",
      "[20250605042527] ✅ Uploaded chunk 51 with 10000 rows to s3a://banktransactionskrnl1/chunks/chunk_51_20250605042527/\n",
      "[20250605042601] ✅ Uploaded chunk 52 with 10000 rows to s3a://banktransactionskrnl1/chunks/chunk_52_20250605042601/\n",
      "[20250605042635] ✅ Uploaded chunk 53 with 10000 rows to s3a://banktransactionskrnl1/chunks/chunk_53_20250605042635/\n",
      "[20250605042709] ✅ Uploaded chunk 54 with 10000 rows to s3a://banktransactionskrnl1/chunks/chunk_54_20250605042709/\n",
      "[20250605042744] ✅ Uploaded chunk 55 with 10000 rows to s3a://banktransactionskrnl1/chunks/chunk_55_20250605042744/\n",
      "[20250605042817] ✅ Uploaded chunk 56 with 10000 rows to s3a://banktransactionskrnl1/chunks/chunk_56_20250605042817/\n",
      "[20250605042851] ✅ Uploaded chunk 57 with 10000 rows to s3a://banktransactionskrnl1/chunks/chunk_57_20250605042851/\n",
      "[20250605042925] ✅ Uploaded chunk 58 with 10000 rows to s3a://banktransactionskrnl1/chunks/chunk_58_20250605042925/\n",
      "[20250605043002] ✅ Uploaded chunk 59 with 4643 rows to s3a://banktransactionskrnl1/chunks/chunk_59_20250605043002/\n",
      "✅ All chunks uploaded. Mechanism X complete.\n"
     ]
    }
   ],
   "source": [
    "# Load your DataFrame\n",
    "df = spark.read.option(\"header\", True).csv(\"dbfs:/FileStore/tables/transactions.csv\")  \n",
    "\n",
    "# Start streaming to S3 (Mechanism X)\n",
    "stream_to_s3(df, chunk_size=10000) \n"
   ]
  }
 ],
 "metadata": {
  "application/vnd.databricks.v1+notebook": {
   "computePreferences": null,
   "dashboards": [],
   "environmentMetadata": {
    "base_environment": "",
    "environment_version": "1"
   },
   "inputWidgetPreferences": null,
   "language": "python",
   "notebookMetadata": {
    "pythonIndentUnit": 4
   },
   "notebookName": "Mechanism_X_StreamToS3",
   "widgets": {}
  },
  "language_info": {
   "name": "python"
  }
 },
 "nbformat": 4,
 "nbformat_minor": 0
}
